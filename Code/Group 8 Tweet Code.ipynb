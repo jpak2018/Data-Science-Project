{
 "cells": [
  {
   "cell_type": "markdown",
   "metadata": {},
   "source": [
    "## Predicting Prevelance of Influenza-like Illness From Tweets\n",
    "<br>\n",
    "By: Alma Niu, Haruto Nakai, and Jonathan Pak\n",
    "<br>\n",
    "Group 8\n",
    "<br>\n",
    "March 16, 2018"
   ]
  },
  {
   "cell_type": "code",
   "execution_count": 1,
   "metadata": {},
   "outputs": [],
   "source": [
    "import pandas as pd\n",
    "data = 'retrivedTexts2.csv'\n",
    "tweet = pd.read_table(data, sep=',')"
   ]
  },
  {
   "cell_type": "code",
   "execution_count": 2,
   "metadata": {
    "scrolled": false
   },
   "outputs": [
    {
     "data": {
      "text/html": [
       "<div>\n",
       "<style scoped>\n",
       "    .dataframe tbody tr th:only-of-type {\n",
       "        vertical-align: middle;\n",
       "    }\n",
       "\n",
       "    .dataframe tbody tr th {\n",
       "        vertical-align: top;\n",
       "    }\n",
       "\n",
       "    .dataframe thead th {\n",
       "        text-align: right;\n",
       "    }\n",
       "</style>\n",
       "<table border=\"1\" class=\"dataframe\">\n",
       "  <thead>\n",
       "    <tr style=\"text-align: right;\">\n",
       "      <th></th>\n",
       "      <th>tweet_id</th>\n",
       "      <th>text</th>\n",
       "      <th>related</th>\n",
       "    </tr>\n",
       "  </thead>\n",
       "  <tbody>\n",
       "    <tr>\n",
       "      <th>0</th>\n",
       "      <td>6004550306</td>\n",
       "      <td>WHO warns of bird flu resurgence\\n: http://tin...</td>\n",
       "      <td>0</td>\n",
       "    </tr>\n",
       "    <tr>\n",
       "      <th>1</th>\n",
       "      <td>6003455112</td>\n",
       "      <td>Nov 23, Cold Remedies; Getting Ready for the C...</td>\n",
       "      <td>0</td>\n",
       "    </tr>\n",
       "    <tr>\n",
       "      <th>2</th>\n",
       "      <td>6002109706</td>\n",
       "      <td>RT @letsrollforums: The War on You and Your Ch...</td>\n",
       "      <td>0</td>\n",
       "    </tr>\n",
       "    <tr>\n",
       "      <th>3</th>\n",
       "      <td>5999019609</td>\n",
       "      <td>@kelliepickler Chinese years: 2007-Cow: Mad Co...</td>\n",
       "      <td>1</td>\n",
       "    </tr>\n",
       "    <tr>\n",
       "      <th>4</th>\n",
       "      <td>5990798305</td>\n",
       "      <td>Getting ready to go get my Swine Flu Vaccine</td>\n",
       "      <td>0</td>\n",
       "    </tr>\n",
       "    <tr>\n",
       "      <th>5</th>\n",
       "      <td>4636047505</td>\n",
       "      <td>Canadian studies says people getting the seaso...</td>\n",
       "      <td>0</td>\n",
       "    </tr>\n",
       "    <tr>\n",
       "      <th>6</th>\n",
       "      <td>5989718714</td>\n",
       "      <td>this flu season is a horrible. everyone is get...</td>\n",
       "      <td>1</td>\n",
       "    </tr>\n",
       "    <tr>\n",
       "      <th>7</th>\n",
       "      <td>5989668305</td>\n",
       "      <td>Swine Flu vs. Bird Flu vs. Zombie Flu http://b...</td>\n",
       "      <td>0</td>\n",
       "    </tr>\n",
       "    <tr>\n",
       "      <th>8</th>\n",
       "      <td>5989190910</td>\n",
       "      <td>RT @cherylp59: @orionbooks review : The Things...</td>\n",
       "      <td>0</td>\n",
       "    </tr>\n",
       "  </tbody>\n",
       "</table>\n",
       "</div>"
      ],
      "text/plain": [
       "     tweet_id                                               text  related\n",
       "0  6004550306  WHO warns of bird flu resurgence\\n: http://tin...        0\n",
       "1  6003455112  Nov 23, Cold Remedies; Getting Ready for the C...        0\n",
       "2  6002109706  RT @letsrollforums: The War on You and Your Ch...        0\n",
       "3  5999019609  @kelliepickler Chinese years: 2007-Cow: Mad Co...        1\n",
       "4  5990798305       Getting ready to go get my Swine Flu Vaccine        0\n",
       "5  4636047505  Canadian studies says people getting the seaso...        0\n",
       "6  5989718714  this flu season is a horrible. everyone is get...        1\n",
       "7  5989668305  Swine Flu vs. Bird Flu vs. Zombie Flu http://b...        0\n",
       "8  5989190910  RT @cherylp59: @orionbooks review : The Things...        0"
      ]
     },
     "execution_count": 2,
     "metadata": {},
     "output_type": "execute_result"
    }
   ],
   "source": [
    "tweet.head(9)"
   ]
  },
  {
   "cell_type": "code",
   "execution_count": 3,
   "metadata": {},
   "outputs": [
    {
     "data": {
      "text/plain": [
       "(4816, 3)"
      ]
     },
     "execution_count": 3,
     "metadata": {},
     "output_type": "execute_result"
    }
   ],
   "source": [
    "tweet.shape"
   ]
  },
  {
   "cell_type": "code",
   "execution_count": 4,
   "metadata": {},
   "outputs": [
    {
     "name": "stdout",
     "output_type": "stream",
     "text": [
      "('Related Sick', 0.5431893687707641)\n",
      "('Non-Related', 0.4568106312292359)\n"
     ]
    }
   ],
   "source": [
    "#Summary Statistics: Percentage of related tweets \n",
    "\n",
    "#tweet['length']=tweet['text'].map(lambda text:len(text)) #get corresponding text length\n",
    "\n",
    "non_related=tweet[tweet['related']==0].count()/tweet.count()   #2200 nonrelated, #2616 related\n",
    "related=tweet[tweet['related']==1].count()/tweet.count()\n",
    "print(\"Related Sick\",related[0]) # about 54 % of tweets in this data is sick related\n",
    "print(\"Non-Related\",non_related[0]) #about 45% tweets in this data non related\n",
    "\n",
    "\n"
   ]
  },
  {
   "cell_type": "code",
   "execution_count": 5,
   "metadata": {},
   "outputs": [
    {
     "data": {
      "text/plain": [
       "<matplotlib.axes._subplots.AxesSubplot at 0x7fcd02572510>"
      ]
     },
     "execution_count": 5,
     "metadata": {},
     "output_type": "execute_result"
    },
    {
     "data": {
      "image/png": "[encoded data removed]",
      "text/plain": [
       "<matplotlib.figure.Figure at 0x7fcd0255ff50>"
      ]
     },
     "metadata": {},
     "output_type": "display_data"
    }
   ],
   "source": [
    "#Show Scatter plot of TweetIds and their Class \n",
    "import pandas as pd\n",
    "import numpy as np\n",
    "import matplotlib.pyplot as plt\n",
    "%matplotlib inline\n",
    "\n",
    "tweet.plot.scatter(x='tweet_id',y='related')"
   ]
  },
  {
   "cell_type": "code",
   "execution_count": 6,
   "metadata": {},
   "outputs": [],
   "source": [
    "#setting X and Y\n",
    "X = tweet.text\n",
    "Y = tweet.related"
   ]
  },
  {
   "cell_type": "code",
   "execution_count": 7,
   "metadata": {},
   "outputs": [
    {
     "name": "stdout",
     "output_type": "stream",
     "text": [
      "0       WHO warns of bird flu resurgence\\n: http://tin...\n",
      "1       Nov 23, Cold Remedies; Getting Ready for the C...\n",
      "2       RT @letsrollforums: The War on You and Your Ch...\n",
      "3       @kelliepickler Chinese years: 2007-Cow: Mad Co...\n",
      "4            Getting ready to go get my Swine Flu Vaccine\n",
      "5       Canadian studies says people getting the seaso...\n",
      "6       this flu season is a horrible. everyone is get...\n",
      "7       Swine Flu vs. Bird Flu vs. Zombie Flu http://b...\n",
      "8       RT @cherylp59: @orionbooks review : The Things...\n",
      "9                @OhSoNattral swine flu!  Ppl are scared.\n",
      "10      Congressional Libs: only thing that can save u...\n",
      "11      Duane Reade canceled their flu shot clinics! N...\n",
      "12      Gucci Mane - Uptown Bird Flu.\\nhttp://www.medi...\n",
      "13      Fear of Flu: Shifting the Goalposts http://cli...\n",
      "14      Oh yay! Getting chippy food for dinner. I'm ge...\n",
      "15      Just returned from the Doctors. They clearly w...\n",
      "16      @billmaher response 2 swine flu captures curre...\n",
      "17      Kellogg Is Getting In Trouble For Phrases Such...\n",
      "18      vaccine 4 prevention of bird flu http://bit.ly...\n",
      "19      My mum keeps going on about me getting the flu...\n",
      "20      Maanga needs to call Mbise to get the name of ...\n",
      "21      Reported Human Cases Of Bird Flu Or H5N1 Influ...\n",
      "22      Swine Flu Vaccine Egypt: health and safety--me...\n",
      "23      Meanwhile, I sat home alone worried and still ...\n",
      "24             Getting over the shortest bout of flu ever\n",
      "25      Worried about the news that under 5's having s...\n",
      "26      getting ready for Magda's flu jab in Cester, a...\n",
      "27      Another Update Re:\"H1N1 'super flu' plague in ...\n",
      "28      Air Kisses, Hugs, and Other Ways to Avoid Gett...\n",
      "29      Tamiflu-resistant swine flu causes new worry h...\n",
      "                              ...                        \n",
      "4786    yeah, so, according to my RA, we are all getti...\n",
      "4787    Thrive during flu pandemic and depression. Lea...\n",
      "4788                     I feel like I'm getting the flu.\n",
      "4789    Good day at work. 2 new kids feeling sick. Hop...\n",
      "4790       Getting over the worse stomach flu of my life!\n",
      "4791           I think I am getting sick with the flu....\n",
      "4792    Are you a parent? Worried about swine flu? The...\n",
      "4793    @akarlin think it may be okay...but concerned....\n",
      "4794    RT @mercola: AVOID GETTING THE FLU by drinking...\n",
      "4795    Seasonal Flu Shots Double Risk of Getting Swin...\n",
      "4796    @creolevampire not quite, I'm getting over the...\n",
      "4797    RT @KissMyS0uL: Ooo and my throat is scratchy!...\n",
      "4798                  worry, worry worries. Bloody flu !!\n",
      "4799    im planning on getting a flu shot today... you...\n",
      "4800    Recovering from possible flu - I'm so behind t...\n",
      "4801    Wonderng how swine flu is going to affect our ...\n",
      "4802    Baxter sent out 72 kilos of live bird flu  des...\n",
      "4803    If you force feed a bird nyquil they shit coug...\n",
      "4804    #h1n1 #news #swineflu Getting swine flu for th...\n",
      "4805    To Flu Vacc or not to Flu Vacc. the kids?Is th...\n",
      "4806    @nbczoraida no flu shot- I'm too worried for t...\n",
      "4807    My body is giving me little signals.. it feels...\n",
      "4808    worried that the hangover of hangovers has now...\n",
      "4809    @Mandiranda Thanks bb! I just hope I ain't get...\n",
      "4810    swine flu confirmed in our school....evry1 is ...\n",
      "4811    @NeyomFriday yes although I think I caught flu...\n",
      "4812    @IMAO_ Remember during the Bird Flu scare, whe...\n",
      "4813    Bought a tub of hand sanitizer for my office t...\n",
      "4814    Fuck! I feel like I'm not getting any better.....\n",
      "4815    Getting my flu (influenza only) shot today, so...\n",
      "Name: text, Length: 4816, dtype: object\n",
      "0       0\n",
      "1       0\n",
      "2       0\n",
      "3       1\n",
      "4       0\n",
      "5       0\n",
      "6       1\n",
      "7       0\n",
      "8       0\n",
      "9       1\n",
      "10      0\n",
      "11      1\n",
      "12      0\n",
      "13      1\n",
      "14      1\n",
      "15      1\n",
      "16      1\n",
      "17      1\n",
      "18      1\n",
      "19      1\n",
      "20      1\n",
      "21      0\n",
      "22      0\n",
      "23      1\n",
      "24      1\n",
      "25      0\n",
      "26      0\n",
      "27      0\n",
      "28      0\n",
      "29      0\n",
      "       ..\n",
      "4786    1\n",
      "4787    1\n",
      "4788    1\n",
      "4789    1\n",
      "4790    1\n",
      "4791    1\n",
      "4792    1\n",
      "4793    1\n",
      "4794    1\n",
      "4795    1\n",
      "4796    1\n",
      "4797    1\n",
      "4798    1\n",
      "4799    1\n",
      "4800    1\n",
      "4801    1\n",
      "4802    1\n",
      "4803    1\n",
      "4804    1\n",
      "4805    1\n",
      "4806    1\n",
      "4807    1\n",
      "4808    1\n",
      "4809    1\n",
      "4810    1\n",
      "4811    1\n",
      "4812    1\n",
      "4813    1\n",
      "4814    1\n",
      "4815    1\n",
      "Name: related, Length: 4816, dtype: int64\n"
     ]
    }
   ],
   "source": [
    "print X\n",
    "print Y"
   ]
  },
  {
   "cell_type": "code",
   "execution_count": 8,
   "metadata": {},
   "outputs": [
    {
     "name": "stdout",
     "output_type": "stream",
     "text": [
      "(3612,)\n",
      "(1204,)\n",
      "(3612,)\n",
      "(1204,)\n"
     ]
    },
    {
     "name": "stderr",
     "output_type": "stream",
     "text": [
      "/usr/local/lib/python2.7/dist-packages/sklearn/cross_validation.py:41: DeprecationWarning: This module was deprecated in version 0.18 in favor of the model_selection module into which all the refactored classes and functions are moved. Also note that the interface of the new CV iterators are different from that of this module. This module will be removed in 0.20.\n",
      "  \"This module will be removed in 0.20.\", DeprecationWarning)\n"
     ]
    }
   ],
   "source": [
    "#splitting the data using cross validation. It split the data so the train would have 3612 tweets\n",
    "# while the test data will consist of 1204 tweets.\n",
    "from sklearn.cross_validation import train_test_split\n",
    "X_tweet, X_test, y_tweet, y_test = train_test_split(X, Y, random_state=1)\n",
    "print X_tweet.shape\n",
    "print X_test.shape\n",
    "print(y_tweet.shape)\n",
    "print(y_test.shape)\n"
   ]
  },
  {
   "cell_type": "code",
   "execution_count": 9,
   "metadata": {},
   "outputs": [],
   "source": [
    "#Fitting the data while using stop words\n",
    "from sklearn.feature_extraction.text import CountVectorizer\n",
    "vect = CountVectorizer(stop_words = 'english')\n",
    "vect.fit(X_tweet)\n",
    "X_tweet_dtm = vect.transform(X_tweet)\n",
    "X_test_dtm = vect.transform(X_test)"
   ]
  },
  {
   "cell_type": "markdown",
   "metadata": {},
   "source": [
    "### Naive Bayes Model"
   ]
  },
  {
   "cell_type": "code",
   "execution_count": 10,
   "metadata": {},
   "outputs": [
    {
     "name": "stdout",
     "output_type": "stream",
     "text": [
      "0.7483388704318937\n"
     ]
    }
   ],
   "source": [
    "from sklearn.naive_bayes import MultinomialNB\n",
    "nb = MultinomialNB()\n",
    "nb.fit(X_tweet_dtm, y_tweet)\n",
    "y_pred_class = nb.predict(X_test_dtm)\n",
    "from sklearn import metrics\n",
    "print metrics.accuracy_score(y_test, y_pred_class) "
   ]
  },
  {
   "cell_type": "markdown",
   "metadata": {},
   "source": [
    "### Logistic Regression Model"
   ]
  },
  {
   "cell_type": "code",
   "execution_count": 11,
   "metadata": {},
   "outputs": [
    {
     "data": {
      "text/plain": [
       "0.7416943521594684"
      ]
     },
     "execution_count": 11,
     "metadata": {},
     "output_type": "execute_result"
    }
   ],
   "source": [
    "from sklearn.linear_model import LogisticRegression\n",
    "logreg = LogisticRegression()\n",
    "logreg.fit(X_tweet_dtm, y_tweet)\n",
    "y_pred_class = logreg.predict(X_test_dtm)\n",
    "y_pred_prob = logreg.predict_proba(X_test_dtm)[:, 1]\n",
    "metrics.accuracy_score(y_test, y_pred_class)"
   ]
  },
  {
   "cell_type": "code",
   "execution_count": 12,
   "metadata": {},
   "outputs": [],
   "source": [
    "#first time ran with only retriviedData 2 resulted in an accuracy of 75-76%\n",
    "#When adding in data from retrivedData 3 the accuracy lowered to 72-74%\n",
    "#When adding stop words, logestic regressions went about by 2% to 74% while Naive Bayes whent about about .5% to about 74.5%"
   ]
  },
  {
   "cell_type": "markdown",
   "metadata": {
    "collapsed": true
   },
   "source": [
    "### Searching Using Common Keywords"
   ]
  },
  {
   "cell_type": "code",
   "execution_count": 13,
   "metadata": {},
   "outputs": [
    {
     "data": {
      "text/plain": [
       "0.7035830618892508"
      ]
     },
     "execution_count": 13,
     "metadata": {},
     "output_type": "execute_result"
    }
   ],
   "source": [
    "#keyword = flu\n",
    "flu = 'fluTweets1.csv'\n",
    "flu_tweet = pd.read_table(flu, sep=',')\n",
    "flu_tweet.head()\n",
    "flu_dtm = vect.transform(flu_tweet.text)\n",
    "\n",
    "y_pred_class1 = nb.predict(flu_dtm)\n",
    "from sklearn import metrics\n",
    "float(y_pred_class1.sum())/len(y_pred_class1)\n"
   ]
  },
  {
   "cell_type": "code",
   "execution_count": 14,
   "metadata": {},
   "outputs": [
    {
     "data": {
      "text/plain": [
       "0.9408409042890344"
      ]
     },
     "execution_count": 14,
     "metadata": {},
     "output_type": "execute_result"
    }
   ],
   "source": [
    "#keyword = sick\n",
    "flu = 'fluTweets2.csv'\n",
    "flu_tweet2 = pd.read_table(flu, sep=',')\n",
    "flu_tweet2.head()\n",
    "flu_dtm2 = vect.transform(flu_tweet2.text)\n",
    "\n",
    "y_pred_class2 = nb.predict(flu_dtm2)\n",
    "float(y_pred_class2.sum())/len(y_pred_class2)"
   ]
  },
  {
   "cell_type": "code",
   "execution_count": 15,
   "metadata": {},
   "outputs": [
    {
     "data": {
      "text/plain": [
       "0.9194768035969753"
      ]
     },
     "execution_count": 15,
     "metadata": {},
     "output_type": "execute_result"
    }
   ],
   "source": [
    "#keyword = cold\n",
    "flu = 'fluTweets3.csv'\n",
    "flu_tweet3 = pd.read_table(flu, sep=',')\n",
    "flu_tweet3.head()\n",
    "flu_dtm3 = vect.transform(flu_tweet3.text)\n",
    "\n",
    "y_pred_class3 = nb.predict(flu_dtm3)\n",
    "float(y_pred_class3.sum())/len(y_pred_class3)"
   ]
  },
  {
   "cell_type": "code",
   "execution_count": 16,
   "metadata": {},
   "outputs": [
    {
     "data": {
      "text/plain": [
       "0.9304897314375987"
      ]
     },
     "execution_count": 16,
     "metadata": {},
     "output_type": "execute_result"
    }
   ],
   "source": [
    "#keyword = cough\n",
    "flu = 'fluTweets4.csv'\n",
    "flu_tweet4 = pd.read_table(flu, sep=',')\n",
    "flu_tweet4.head()\n",
    "flu_dtm4 = vect.transform(flu_tweet4.text)\n",
    "\n",
    "y_pred_class4 = nb.predict(flu_dtm4)\n",
    "float(y_pred_class4.sum())/len(y_pred_class4)"
   ]
  },
  {
   "cell_type": "code",
   "execution_count": 17,
   "metadata": {},
   "outputs": [
    {
     "data": {
      "text/plain": [
       "0.9443507588532883"
      ]
     },
     "execution_count": 17,
     "metadata": {},
     "output_type": "execute_result"
    }
   ],
   "source": [
    "#keyword =  fever\n",
    "flu = 'fluTweets5.csv'\n",
    "flu_tweet5 = pd.read_table(flu, sep=',')\n",
    "flu_tweet5.head()\n",
    "flu_dtm5 = vect.transform(flu_tweet5.text)\n",
    "\n",
    "y_pred_class5 = nb.predict(flu_dtm5)\n",
    "float(y_pred_class5.sum())/len(y_pred_class5)"
   ]
  },
  {
   "cell_type": "code",
   "execution_count": 18,
   "metadata": {},
   "outputs": [
    {
     "data": {
      "text/plain": [
       "0.4583333333333333"
      ]
     },
     "execution_count": 18,
     "metadata": {},
     "output_type": "execute_result"
    }
   ],
   "source": [
    "#keyword = virus\n",
    "flu = 'fluTweets6.csv'\n",
    "flu_tweet6 = pd.read_table(flu, sep=',')\n",
    "flu_tweet6.head()\n",
    "flu_dtm6 = vect.transform(flu_tweet6.text)\n",
    "\n",
    "y_pred_class6 = nb.predict(flu_dtm6)\n",
    "float(y_pred_class6.sum())/len(y_pred_class6)"
   ]
  },
  {
   "cell_type": "markdown",
   "metadata": {
    "collapsed": true
   },
   "source": [
    "### Demo"
   ]
  },
  {
   "cell_type": "code",
   "execution_count": null,
   "metadata": {},
   "outputs": [],
   "source": [
    "#\"I am so sick with the influenza flu virus\"\n",
    "#\"Coffee makes me energtic!\"\n",
    "#\"this flu season is a horrible. everyone is getting sick. makes you dislike winter that much more. winter is not fun when one has a cold.\"\n",
    "#\"RT @McFaul: This is sick.  Remember, Kiselev works for Putin. https://t.co/tdCDBABhAz\"\n",
    "#   Expected Output: [1 0 1 0]"
   ]
  },
  {
   "cell_type": "code",
   "execution_count": null,
   "metadata": {},
   "outputs": [],
   "source": [
    "#test example -made up cases ourselves --this is where I started to add things--\n",
    "case=[\"I am so sick with the influenza flu virus\",\"Coffee makes me energtic!\",\n",
    "\"this flu season is a horrible. everyone is getting sick. makes you dislike winter that much more. winter is not fun when one has a cold.\",      \n",
    "\"RT @McFaul: This is sick.  Remember, Kiselev works for Putin. https://t.co/tdCDBABhAz\"] #create random test case\n",
    "example_case=vect.transform(case)\n",
    "predict=nb.predict(example_case)\n",
    "print(predict) #Ouput: 1 for sick tweet, 0 for nonsick"
   ]
  },
  {
   "cell_type": "code",
   "execution_count": null,
   "metadata": {},
   "outputs": [],
   "source": [
    "print metrics.confusion_matrix(y_test, y_pred_class)"
   ]
  },
  {
   "cell_type": "code",
   "execution_count": null,
   "metadata": {
    "scrolled": true
   },
   "outputs": [],
   "source": [
    "#false positives\n",
    "X_test[y_test < y_pred_class]"
   ]
  },
  {
   "cell_type": "code",
   "execution_count": null,
   "metadata": {
    "scrolled": true
   },
   "outputs": [],
   "source": [
    "#false negatives\n",
    "X_test[y_test > y_pred_class]"
   ]
  },
  {
   "cell_type": "code",
   "execution_count": null,
   "metadata": {},
   "outputs": [],
   "source": [
    "#Lets determine the value of certain words in the text! Use bag of words method.\n",
    "\n",
    "#Formula:(# times $w$ appears in comment) * log(# comments in train data/# of comments with word)\n",
    "\n",
    "def TFIDF(comment,train):\n",
    "    comment=comment.split(' ') #split comment into list of words\n",
    "    tfidf_comment=np.zeros(len(comment)) #initiliaze tfidf array for comment\n",
    "    num_comment_word=0 #initialize number of comments containing word\n",
    "    word_index=0 #initialize index for word in comment\n",
    "    \n",
    "    for word in comment:\n",
    "        tf=comment.count(word) #count frequency of word in comment\n",
    "        for text in train[\"text\"]: \n",
    "            if text.split(' ').count(word)>0: #count number of comments with word\n",
    "                   num_comment_word+=1\n",
    "        \n",
    "        idf=np.log(train.count()[0]/num_comment_word)\n",
    "        \n",
    "        tfidf_comment[word_index]=tf*idf\n",
    "        num_comment_word=0\n",
    "        word_index+=1\n",
    "        \n",
    "    return tfidf_comment\n",
    "        \n",
    "        \n",
    "                    \n",
    "                  \n",
    "common=TFIDF(\"sick cold cough fever virus influenza\",tweet) #lower number: more common in our text   \n",
    "\n",
    "rare=TFIDF(\"sun eat math gym\",tweet)\n",
    "\n",
    "print(\"More common words\\n\",common)\n",
    "\n",
    "\n",
    "print(\"Rare words\\n\", rare)\n",
    "#Result: notice how rare words have higher TFIDF, or higher value for being unique\n",
    "\n",
    "#Using the common sick words we found, we tell our twitter API to grab tweets with that word"
   ]
  },
  {
   "cell_type": "markdown",
   "metadata": {},
   "source": [
    "### Five-Fold Cross Validation"
   ]
  },
  {
   "cell_type": "code",
   "execution_count": null,
   "metadata": {},
   "outputs": [],
   "source": [
    "# get cross validation score for Naive Bayes, if score close, then good accuracy\n",
    "from sklearn.model_selection import cross_val_score\n",
    "\n",
    "vect2=CountVectorizer()\n",
    "vect2.fit(X)#fit the texts\n",
    "total_X=vect2.transform(X)\n",
    "nb.fit(total_X,Y) #use naive bayes to train data\n",
    "\n",
    "scores=cross_val_score(nb,total_X,Y,cv=5)#got it, split into several test/train of 5 groups\n",
    "print(scores) #if scores do not vary much, then good evaluation\n"
   ]
  },
  {
   "cell_type": "code",
   "execution_count": null,
   "metadata": {},
   "outputs": [],
   "source": [
    "#get cross validation score for Logistic Regression\n",
    "logreg.fit(total_X, Y)\n",
    "score2=cross_val_score(logreg,total_X,Y,cv=5)\n",
    "print(score2)"
   ]
  },
  {
   "cell_type": "code",
   "execution_count": null,
   "metadata": {},
   "outputs": [],
   "source": [
    "#compare Naive vs Logistic Regression with Bar Graph\n",
    "import numpy as np\n",
    "import matplotlib.pyplot as plt\n",
    "n_groups=5\n",
    "s1=tuple(scores) #change array scores to tuples\n",
    "s2=tuple(score2)\n",
    "fig,ax=plt.subplots()\n",
    "index=np.arange(n_groups)\n",
    "bar_width=0.35\n",
    "opacity=0.8\n",
    "rects1=plt.bar(index,s1,bar_width,alpha=opacity,color='b',label='Naive')\n",
    "rects2=plt.bar(index+bar_width,s2,bar_width,alpha=opacity,color='g',label='Logistic')\n",
    "\n",
    "plt.xlabel('Score Runs')\n",
    "plt.ylabel('Accuracy')\n",
    "plt.title('Algorithm Comparison')\n",
    "plt.xticks(index+bar_width,('1','2','3','4','5'))\n",
    "plt.legend()\n",
    "plt.tight_layout()\n",
    "plt.show() #overall,Naive Bayes outperforms Logistic Regression"
   ]
  },
  {
   "cell_type": "code",
   "execution_count": null,
   "metadata": {},
   "outputs": [],
   "source": [
    "print(\"Accuracy of NB Cross Validation:%0.2f(+/-%0.2f)\"%(scores.mean(),scores.std()*2))"
   ]
  },
  {
   "cell_type": "code",
   "execution_count": null,
   "metadata": {},
   "outputs": [],
   "source": [
    "\n",
    "print(\"Accuracy of LR Cross Validation:%0.2f(+/-%0.2f)\"%(score2.mean(),score2.std()*2))"
   ]
  },
  {
   "cell_type": "code",
   "execution_count": null,
   "metadata": {},
   "outputs": [],
   "source": [
    "#Precision, Recall, Fscore for Naive Bayes\n",
    "    #Recall: correctly identified sick tweets/all sick tweets from test data\n",
    "    #Precision:correctly identified sick tweets/all predicted sick tweets from train data\n",
    "    #Fscore: weighted harmonic mean between Precision/Recall\n",
    "\n",
    "print(y_pred_class)  #from Naive Bayes predicted result\n",
    "\n",
    "y_test=np.array(y_test) #actual test from train_split method\n",
    "\n",
    "\n",
    "\n",
    "from sklearn.metrics import recall_score,precision_score\n",
    "\n",
    "\n",
    "\n",
    "recall=recall_score(y_test,y_pred_class,average=None) #return array of scores for each class, get sick\n",
    "precision=precision_score(y_test,y_pred_class,average=None)\n",
    "print(\"Recall\",recall[1])\n",
    "print(\"Precision\",precision[1])\n",
    "\n",
    "F_Score=2*(precision[1]*recall[1])/(precision[1]+recall[1])\n",
    "print(\"F_Score\",F_Score)"
   ]
  },
  {
   "cell_type": "code",
   "execution_count": null,
   "metadata": {},
   "outputs": [],
   "source": []
  }
 ],
 "metadata": {
  "kernelspec": {
   "display_name": "Python 2",
   "language": "python",
   "name": "python2"
  },
  "language_info": {
   "codemirror_mode": {
    "name": "ipython",
    "version": 2
   },
   "file_extension": ".py",
   "mimetype": "text/x-python",
   "name": "python",
   "nbconvert_exporter": "python",
   "pygments_lexer": "ipython2",
   "version": "2.7.12"
  }
 },
 "nbformat": 4,
 "nbformat_minor": 2
}
